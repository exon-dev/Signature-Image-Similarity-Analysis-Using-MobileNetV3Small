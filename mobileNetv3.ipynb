{
 "cells": [
  {
   "cell_type": "markdown",
   "metadata": {},
   "source": [
    "### Title: **Image Similarity Analysis Using MobileNetV3Small**\n"
   ]
  },
  {
   "cell_type": "markdown",
   "metadata": {},
   "source": [
    "### Step 1: **Import Required Libraries and Modules**\n"
   ]
  },
  {
   "cell_type": "code",
   "execution_count": 1,
   "metadata": {},
   "outputs": [],
   "source": [
    "import os\n",
    "import numpy as np\n",
    "import cv2\n",
    "from tensorflow.keras.applications import MobileNetV3Small\n",
    "from tensorflow.keras.applications.mobilenet_v3 import preprocess_input\n",
    "from tensorflow.keras.models import Model\n",
    "from tensorflow.keras.layers import GlobalAveragePooling2D\n",
    "from tensorflow.keras.preprocessing.image import img_to_array\n",
    "from scipy.spatial.distance import cosine\n"
   ]
  },
  {
   "cell_type": "markdown",
   "metadata": {},
   "source": [
    "### Step 2: **Set and Verify the Working Directory**\n"
   ]
  },
  {
   "cell_type": "code",
   "execution_count": 2,
   "metadata": {},
   "outputs": [
    {
     "name": "stdout",
     "output_type": "stream",
     "text": [
      "Working directory: d:\\Desktop\\IT-Projects\\3_SimiScan\\Signature Image Similarity Analysis Using MobileNetV3Small\n"
     ]
    }
   ],
   "source": [
    "# Set the directory\n",
    "HOME = os.getcwd()\n",
    "os.chdir(HOME)\n",
    "print(f\"Working directory: {HOME}\")\n"
   ]
  },
  {
   "cell_type": "markdown",
   "metadata": {},
   "source": [
    "### Step 3: **Create MobileNetV3Small Model for Feature Extraction**\n"
   ]
  },
  {
   "cell_type": "code",
   "execution_count": 4,
   "metadata": {},
   "outputs": [],
   "source": [
    "\n",
    "# Create MobileNetV3Small model for feature extraction\n",
    "def create_mobilenet_v3_small_feature_extractor():\n",
    "    base_model = MobileNetV3Small(weights='imagenet', include_top=False, input_shape=(128, 128, 3))\n",
    "    x = base_model.output\n",
    "    x = GlobalAveragePooling2D()(x)\n",
    "    model = Model(inputs=base_model.input, outputs=x)\n",
    "    return model\n",
    "\n",
    "mobilenet_v3_small_feature_extractor = create_mobilenet_v3_small_feature_extractor()\n"
   ]
  },
  {
   "cell_type": "markdown",
   "metadata": {},
   "source": [
    "### Step 4: **Define Model Save Path and Save the MobileNetV3Small Model**\n"
   ]
  },
  {
   "cell_type": "code",
   "execution_count": 6,
   "metadata": {},
   "outputs": [
    {
     "name": "stderr",
     "output_type": "stream",
     "text": [
      "WARNING:absl:You are saving your model as an HDF5 file via `model.save()` or `keras.saving.save_model(model)`. This file format is considered legacy. We recommend using instead the native Keras format, e.g. `model.save('my_model.keras')` or `keras.saving.save_model(model, 'my_model.keras')`. \n"
     ]
    },
    {
     "name": "stdout",
     "output_type": "stream",
     "text": [
      "Model saved to: d:\\Desktop\\IT-Projects\\3_SimiScan\\Signature Image Similarity Analysis Using MobileNetV3Small\\mobilenet_v3_small_feature_extractor.h5\n"
     ]
    }
   ],
   "source": [
    "# Define the path to save the model\n",
    "model_save_path = os.path.join(HOME, 'mobilenet_v3_small_feature_extractor.h5')\n",
    "\n",
    "# Save the model\n",
    "mobilenet_v3_small_feature_extractor.save(model_save_path)\n",
    "print(f\"Model saved to: {model_save_path}\")\n"
   ]
  },
  {
   "cell_type": "markdown",
   "metadata": {},
   "source": [
    "### Step 5: **Preprocess Image and Extract Features Using MobileNetV3Small**\n"
   ]
  },
  {
   "cell_type": "code",
   "execution_count": 8,
   "metadata": {},
   "outputs": [],
   "source": [
    "def preprocess_image(img_path):\n",
    "    img = cv2.imread(img_path)\n",
    "    img = cv2.resize(img, (128, 128))\n",
    "    img = img_to_array(img)\n",
    "    img = preprocess_input(img)  # Preprocess for MobileNetV3\n",
    "    return np.expand_dims(img, axis=0)\n",
    "\n",
    "def extract_features(img_path):\n",
    "    img = preprocess_image(img_path)\n",
    "    features = mobilenet_v3_small_feature_extractor.predict(img)\n",
    "    return features.flatten()\n"
   ]
  },
  {
   "cell_type": "markdown",
   "metadata": {},
   "source": [
    "### Step 6: **Compare Two Images Based on Feature Extraction and Cosine Similarity**"
   ]
  },
  {
   "cell_type": "code",
   "execution_count": 9,
   "metadata": {},
   "outputs": [],
   "source": [
    "def compare_images(img1_path, img2_path):\n",
    "    features1 = extract_features(img1_path)\n",
    "    features2 = extract_features(img2_path)\n",
    "    \n",
    "    # Calculate similarity score\n",
    "    similarity_score = cosine(features1, features2)\n",
    "    \n",
    "    # Convert similarity score to percentage\n",
    "    percentage_similarity = (1 - similarity_score) * 100\n",
    "    \n",
    "    # Determine similarity\n",
    "    print(f\"Similarity: {percentage_similarity:.2f}%\")\n"
   ]
  },
  {
   "cell_type": "markdown",
   "metadata": {},
   "source": [
    "### Step 7: **Compare Specific Images for Similarity**"
   ]
  },
  {
   "cell_type": "code",
   "execution_count": 13,
   "metadata": {},
   "outputs": [
    {
     "name": "stdout",
     "output_type": "stream",
     "text": [
      "\u001b[1m1/1\u001b[0m \u001b[32m━━━━━━━━━━━━━━━━━━━━\u001b[0m\u001b[37m\u001b[0m \u001b[1m0s\u001b[0m 71ms/step\n",
      "\u001b[1m1/1\u001b[0m \u001b[32m━━━━━━━━━━━━━━━━━━━━\u001b[0m\u001b[37m\u001b[0m \u001b[1m0s\u001b[0m 44ms/step\n",
      "Similarity: 87.74%\n"
     ]
    }
   ],
   "source": [
    "\n",
    "img1_path = 'agh1_2.jpg'\n",
    "img2_path = 'agh1_1.jpg'\n",
    "\n",
    "compare_images(img1_path, img2_path)\n"
   ]
  }
 ],
 "metadata": {
  "kernelspec": {
   "display_name": "Python 3",
   "language": "python",
   "name": "python3"
  },
  "language_info": {
   "codemirror_mode": {
    "name": "ipython",
    "version": 3
   },
   "file_extension": ".py",
   "mimetype": "text/x-python",
   "name": "python",
   "nbconvert_exporter": "python",
   "pygments_lexer": "ipython3",
   "version": "3.10.8"
  }
 },
 "nbformat": 4,
 "nbformat_minor": 2
}
